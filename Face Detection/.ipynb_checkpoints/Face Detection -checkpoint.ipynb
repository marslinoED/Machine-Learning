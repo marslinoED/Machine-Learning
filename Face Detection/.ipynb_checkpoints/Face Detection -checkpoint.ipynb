{
 "cells": [
  {
   "cell_type": "markdown",
   "id": "0b301215",
   "metadata": {},
   "source": [
    "### Importing Library"
   ]
  },
  {
   "cell_type": "code",
   "execution_count": 1,
   "id": "58157d64",
   "metadata": {
    "ExecuteTime": {
     "end_time": "2024-03-15T11:46:09.523573Z",
     "start_time": "2024-03-15T11:46:07.671092Z"
    }
   },
   "outputs": [],
   "source": [
    "import cv2\n",
    "import numpy as np\n",
    "import face_recognition\n",
    "import os"
   ]
  },
  {
   "cell_type": "markdown",
   "id": "55a738a7",
   "metadata": {},
   "source": [
    "### For One Img"
   ]
  },
  {
   "cell_type": "code",
   "execution_count": 11,
   "id": "7f020b5a",
   "metadata": {
    "ExecuteTime": {
     "end_time": "2024-03-15T11:43:52.997928Z",
     "start_time": "2024-03-15T11:43:36.491957Z"
    },
    "scrolled": true
   },
   "outputs": [
    {
     "name": "stdout",
     "output_type": "stream",
     "text": [
      "[0.81439404]\n"
     ]
    },
    {
     "data": {
      "text/plain": [
       "-1"
      ]
     },
     "execution_count": 11,
     "metadata": {},
     "output_type": "execute_result"
    }
   ],
   "source": [
    "imgtrain = face_recognition.load_image_file('Imgs/Marslino.jpg')\n",
    "imgtrain = cv2.cvtColor(imgtrain, cv2.COLOR_BGR2RGB)\n",
    "FaceLoc = face_recognition.face_locations(imgtrain)[0]\n",
    "ENCODER1 = face_recognition.face_encodings(imgtrain)[0]\n",
    "cv2.r_recognition.face_locations(imgtest)[0]\n",
    "ENCODERTEST = face_recognition.face_encodings(imgtest)[0]\n",
    "cv2.rectangle(imgtest,(FaceLoc[3],FaceLoc[0]),(FaceLoc[1],FaceLoc[2]),(255,0,255),2)\n",
    "\n",
    "results = face_recognition.compare_faces([ENCODER1],ENCODERTEST)\n",
    "facedistance = face_recognition.face_distance([ENCODER1],ENCODERTEST)\n",
    "print(facedistance)\n",
    "\n",
    "\n",
    "cv2.putText(imgtest,f'{results}{round(facedistance[0],2)}',(50,50),cv2.FONT_HERSHEY_COMPLEX,1,(0,0,255),2)\n",
    "cv2.imshow(\"Marslino\", cv2.resize(imgtrain, None, fx=0.25, fy=0.25, interpolation=cv2.INTER_AREA))\n",
    "cv2.imshow(\"Einstein\", cv2.resize(imgtest, None, fx=0.25, fy=0.25, interpolation=cv2.INTER_AREA))\n",
    "\n",
    "cv2.waitKey(0)"
   ]
  },
  {
   "cell_type": "markdown",
   "id": "ed9e0e21",
   "metadata": {},
   "source": [
    "### Video Detector"
   ]
  },
  {
   "cell_type": "code",
   "execution_count": 2,
   "id": "e0b91d8e",
   "metadata": {
    "ExecuteTime": {
     "end_time": "2024-03-15T11:46:28.917734Z",
     "start_time": "2024-03-15T11:46:28.788927Z"
    }
   },
   "outputs": [
    {
     "data": {
      "text/plain": [
       "['Einstein', 'Elon Musk', 'Marslino', 'Mohamed Aly']"
      ]
     },
     "execution_count": 2,
     "metadata": {},
     "output_type": "execute_result"
    }
   ],
   "source": [
    "# Importing Imgs\n",
    "\n",
    "Path = \"Imgs/\"\n",
    "images = []\n",
    "labels = []\n",
    "\n",
    "mylist = os.listdir(Path)\n",
    "for cl in mylist:\n",
    "    img = cv2.imread(f'{Path}/{cl}')\n",
    "    images.append(img)\n",
    "    labels.append(os.path.splitext(cl)[0])\n",
    "labels"
   ]
  },
  {
   "cell_type": "code",
   "execution_count": 3,
   "id": "a99bd5dd",
   "metadata": {
    "ExecuteTime": {
     "end_time": "2024-03-15T11:46:35.631652Z",
     "start_time": "2024-03-15T11:46:35.626632Z"
    }
   },
   "outputs": [],
   "source": [
    "# Encoding Function\n",
    "\n",
    "def FindEnco(images):\n",
    "    encodelist = []\n",
    "    i = 1\n",
    "    for img in images:\n",
    "        img = cv2.cvtColor(img, cv2.COLOR_BGR2RGB)\n",
    "        encode = face_recognition.face_encodings(img)[0]\n",
    "        encodelist.append(encode)\n",
    "        print(f'{i}/{len(images)}', end=\" \")\n",
    "        i += 1\n",
    "    return encodelist"
   ]
  },
  {
   "cell_type": "code",
   "execution_count": 4,
   "id": "97b2005c",
   "metadata": {
    "ExecuteTime": {
     "end_time": "2024-03-15T11:46:44.332009Z",
     "start_time": "2024-03-15T11:46:37.680096Z"
    }
   },
   "outputs": [
    {
     "name": "stdout",
     "output_type": "stream",
     "text": [
      "1/4 2/4 3/4 4/4 \n",
      "Completed\n"
     ]
    }
   ],
   "source": [
    "# Encoders array\n",
    "\n",
    "KnownImgEncodes = FindEnco(images)\n",
    "print(\"\\nCompleted\")"
   ]
  },
  {
   "cell_type": "code",
   "execution_count": 6,
   "id": "df8df604",
   "metadata": {
    "ExecuteTime": {
     "end_time": "2024-03-15T11:48:43.427906Z",
     "start_time": "2024-03-15T11:47:42.539639Z"
    }
   },
   "outputs": [
    {
     "name": "stdout",
     "output_type": "stream",
     "text": [
      "MARSLINO\n",
      "MARSLINO\n",
      "MARSLINO\n",
      "MARSLINO\n",
      "MARSLINO\n",
      "MARSLINO\n",
      "MARSLINO\n",
      "MARSLINO\n",
      "MARSLINO\n",
      "MARSLINO\n",
      "MARSLINO\n",
      "MARSLINO\n",
      "MARSLINO\n",
      "MARSLINO\n",
      "MARSLINO\n",
      "MARSLINO\n",
      "MARSLINO\n",
      "MARSLINO\n",
      "MARSLINO\n",
      "MARSLINO\n",
      "MARSLINO\n",
      "MARSLINO\n",
      "MARSLINO\n",
      "MARSLINO\n",
      "ELON MUSK\n",
      "ELON MUSK\n",
      "ELON MUSK\n",
      "ELON MUSK\n",
      "ELON MUSK\n",
      "ELON MUSK\n",
      "MOHAMED ALY\n",
      "MOHAMED ALY\n",
      "MOHAMED ALY\n",
      "EINSTEIN\n",
      "EINSTEIN\n",
      "EINSTEIN\n",
      "EINSTEIN\n",
      "MARSLINO\n",
      "MARSLINO\n",
      "MARSLINO\n",
      "MARSLINO\n",
      "MARSLINO\n",
      "MARSLINO\n",
      "MARSLINO\n",
      "MARSLINO\n",
      "MARSLINO\n",
      "MARSLINO\n",
      "MARSLINO\n",
      "MARSLINO\n",
      "MARSLINO\n",
      "MARSLINO\n",
      "MARSLINO\n",
      "MARSLINO\n",
      "MARSLINO\n",
      "MARSLINO\n"
     ]
    }
   ],
   "source": [
    "# Video\n",
    "\n",
    "cap = cv2.VideoCapture(0)\n",
    "\n",
    "while True:\n",
    "    success, img = cap.read()\n",
    "    img = cv2.flip(img,1)\n",
    "    \n",
    "    Face_Cur = face_recognition.face_locations(img)\n",
    "    Enc_Cur = face_recognition.face_encodings(img, Face_Cur)\n",
    "    \n",
    "    for EncodeFace, FaceLoc in zip (Enc_Cur,Face_Cur):\n",
    "        matches = face_recognition.compare_faces(KnownImgEncodes,EncodeFace)\n",
    "        FaceDist = face_recognition.face_distance(KnownImgEncodes,EncodeFace)\n",
    "        # print(FaceDist)\n",
    "        matchesIndex = np.argmin(FaceDist)\n",
    "        \n",
    "        if matches[matchesIndex]:\n",
    "            name = labels[matchesIndex].upper()\n",
    "            print(name)\n",
    "            y1,x2,y2,x1 = FaceLoc\n",
    "            cv2.rectangle(img,(x1,y1),(x2,y2),(0,255,0), 2)\n",
    "            cv2.rectangle(img,(x1,y2-35),(x2,y2),(0,255,0),cv2.FILLED)\n",
    "            cv2.putText(img,name,(x1+6,y2-6),cv2.FONT_HERSHEY_COMPLEX,1,(255,255,255),2)\n",
    "    \n",
    " \n",
    "    \n",
    "    \n",
    "    cv2.imshow(\"Image\", img)\n",
    "    \n",
    "    # Check for the 'Esc' key press\n",
    "    key = cv2.waitKey(1)\n",
    "    if key == 27:  # 27 is the keycode for 'Esc'\n",
    "        break\n",
    "\n",
    "cap.release()\n",
    "cv2.destroyAllWindows()"
   ]
  }
 ],
 "metadata": {
  "kernelspec": {
   "display_name": "Python 3 (ipykernel)",
   "language": "python",
   "name": "python3"
  },
  "language_info": {
   "codemirror_mode": {
    "name": "ipython",
    "version": 3
   },
   "file_extension": ".py",
   "mimetype": "text/x-python",
   "name": "python",
   "nbconvert_exporter": "python",
   "pygments_lexer": "ipython3",
   "version": "3.11.5"
  },
  "varInspector": {
   "cols": {
    "lenName": 16,
    "lenType": 16,
    "lenVar": 40
   },
   "kernels_config": {
    "python": {
     "delete_cmd_postfix": "",
     "delete_cmd_prefix": "del ",
     "library": "var_list.py",
     "varRefreshCmd": "print(var_dic_list())"
    },
    "r": {
     "delete_cmd_postfix": ") ",
     "delete_cmd_prefix": "rm(",
     "library": "var_list.r",
     "varRefreshCmd": "cat(var_dic_list()) "
    }
   },
   "types_to_exclude": [
    "module",
    "function",
    "builtin_function_or_method",
    "instance",
    "_Feature"
   ],
   "window_display": false
  }
 },
 "nbformat": 4,
 "nbformat_minor": 5
}
