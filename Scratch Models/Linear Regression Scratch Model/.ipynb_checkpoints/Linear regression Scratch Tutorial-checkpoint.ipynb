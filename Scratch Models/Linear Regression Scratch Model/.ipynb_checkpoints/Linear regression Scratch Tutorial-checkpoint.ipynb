{
 "cells": [
  {
   "cell_type": "code",
   "execution_count": 1,
   "id": "325e0662",
   "metadata": {
    "ExecuteTime": {
     "end_time": "2024-12-12T09:43:05.349925Z",
     "start_time": "2024-12-12T09:43:04.614925Z"
    }
   },
   "outputs": [],
   "source": [
    "# needed libraries\n",
    "import pandas as pd"
   ]
  },
  {
   "cell_type": "code",
   "execution_count": 2,
   "id": "3a4a314a",
   "metadata": {
    "ExecuteTime": {
     "end_time": "2024-12-12T09:43:05.374052Z",
     "start_time": "2024-12-12T09:43:05.351927Z"
    }
   },
   "outputs": [
    {
     "data": {
      "text/html": [
       "<div>\n",
       "<style scoped>\n",
       "    .dataframe tbody tr th:only-of-type {\n",
       "        vertical-align: middle;\n",
       "    }\n",
       "\n",
       "    .dataframe tbody tr th {\n",
       "        vertical-align: top;\n",
       "    }\n",
       "\n",
       "    .dataframe thead th {\n",
       "        text-align: right;\n",
       "    }\n",
       "</style>\n",
       "<table border=\"1\" class=\"dataframe\">\n",
       "  <thead>\n",
       "    <tr style=\"text-align: right;\">\n",
       "      <th></th>\n",
       "      <th>Area</th>\n",
       "      <th>price</th>\n",
       "      <th>Y^</th>\n",
       "      <th>MSE</th>\n",
       "      <th>Y^-Y</th>\n",
       "      <th>Normalized_Area</th>\n",
       "    </tr>\n",
       "  </thead>\n",
       "  <tbody>\n",
       "    <tr>\n",
       "      <th>0</th>\n",
       "      <td>10</td>\n",
       "      <td>500</td>\n",
       "      <td>0</td>\n",
       "      <td>0</td>\n",
       "      <td>0</td>\n",
       "      <td>0.00</td>\n",
       "    </tr>\n",
       "    <tr>\n",
       "      <th>1</th>\n",
       "      <td>20</td>\n",
       "      <td>700</td>\n",
       "      <td>0</td>\n",
       "      <td>0</td>\n",
       "      <td>0</td>\n",
       "      <td>0.25</td>\n",
       "    </tr>\n",
       "    <tr>\n",
       "      <th>2</th>\n",
       "      <td>30</td>\n",
       "      <td>800</td>\n",
       "      <td>0</td>\n",
       "      <td>0</td>\n",
       "      <td>0</td>\n",
       "      <td>0.50</td>\n",
       "    </tr>\n",
       "    <tr>\n",
       "      <th>3</th>\n",
       "      <td>40</td>\n",
       "      <td>1000</td>\n",
       "      <td>0</td>\n",
       "      <td>0</td>\n",
       "      <td>0</td>\n",
       "      <td>0.75</td>\n",
       "    </tr>\n",
       "    <tr>\n",
       "      <th>4</th>\n",
       "      <td>50</td>\n",
       "      <td>1500</td>\n",
       "      <td>0</td>\n",
       "      <td>0</td>\n",
       "      <td>0</td>\n",
       "      <td>1.00</td>\n",
       "    </tr>\n",
       "  </tbody>\n",
       "</table>\n",
       "</div>"
      ],
      "text/plain": [
       "   Area  price  Y^  MSE  Y^-Y  Normalized_Area\n",
       "0    10    500   0    0     0             0.00\n",
       "1    20    700   0    0     0             0.25\n",
       "2    30    800   0    0     0             0.50\n",
       "3    40   1000   0    0     0             0.75\n",
       "4    50   1500   0    0     0             1.00"
      ]
     },
     "execution_count": 2,
     "metadata": {},
     "output_type": "execute_result"
    }
   ],
   "source": [
    "# Simple data\n",
    "df = pd.DataFrame({\n",
    "    \"Area\": [10, 20, 30, 40, 50],\n",
    "    \"price\": [500, 700, 800, 1000, 1500]\n",
    "})\n",
    "\n",
    "# preprocessing \n",
    "Theta = [1, 1]  \n",
    "Alpha = 0.01  \n",
    "df[\"Y^\"] = [0]*df.Area.count()\n",
    "df[\"MSE\"] = [0]*df.Area.count()\n",
    "df[\"Y^-Y\"] = [0]*df.Area.count()\n",
    "\n",
    "# Scaling the area 0:1 values\n",
    "df[\"Normalized_Area\"] = (df[\"Area\"] - df[\"Area\"].min()) / (df[\"Area\"].max() - df[\"Area\"].min())\n",
    "df"
   ]
  },
  {
   "cell_type": "code",
   "execution_count": 3,
   "id": "80fa1100",
   "metadata": {
    "ExecuteTime": {
     "end_time": "2024-12-12T09:43:05.381560Z",
     "start_time": "2024-12-12T09:43:05.377329Z"
    }
   },
   "outputs": [],
   "source": [
    "# updating the predicton every gradient descent value\n",
    "def update(Theta):\n",
    "    df[\"Y^\"] = Theta[0] + Theta[1] * df.Area\n",
    "    df[\"MSE\"] = (df.price - df[\"Y^\"])**2\n",
    "    df[\"Y^-Y\"] = df[\"Y^\"] - df[\"price\"]"
   ]
  },
  {
   "cell_type": "code",
   "execution_count": 4,
   "id": "1fc6d681",
   "metadata": {
    "ExecuteTime": {
     "end_time": "2024-12-12T09:43:06.780330Z",
     "start_time": "2024-12-12T09:43:05.384074Z"
    }
   },
   "outputs": [
    {
     "name": "stdout",
     "output_type": "stream",
     "text": [
      "I:  0 m:  1.0 W1:  1.0 MSE:  862161.0\n",
      "I:  100 m:  77.13316109410043 W1:  26.362161095955425 MSE:  13484.953836798537\n",
      "I:  200 m:  105.60318671278803 W1:  25.64173444096336 MSE:  12228.012135495246\n",
      "I:  300 m:  127.9728010801798 W1:  25.075677117519692 MSE:  11452.02161971967\n",
      "I:  400 m:  145.54916907165827 W1:  24.63091165765462 MSE:  10972.953035541232\n",
      "I:  500 m:  159.3593629667391 W1:  24.281448262171022 MSE:  10677.193353327386\n",
      "I:  600 m:  170.21037925817103 W1:  24.00686609290818 MSE:  10494.601982254168\n",
      "I:  700 m:  178.73629536416107 W1:  23.791119984298586 MSE:  10381.876648832005\n",
      "I:  800 m:  185.4353218418728 W1:  23.62160284665944 MSE:  10312.284089663113\n",
      "I:  900 m:  190.6989152424169 W1:  23.488408972904026 MSE:  10269.320151170796\n"
     ]
    },
    {
     "data": {
      "text/plain": [
       "[194.79803771026334, 23.384681735835542]"
      ]
     },
     "execution_count": 4,
     "metadata": {},
     "output_type": "execute_result"
    }
   ],
   "source": [
    "# Training\n",
    "def GD(Theta, Alpha, num_iterations=1000):\n",
    "    n = len(df)\n",
    "\n",
    "    for i in range(num_iterations):\n",
    "        \n",
    "        # GD Equation\n",
    "        gradient_Theta0 = df[\"Y^-Y\"].sum()\n",
    "        gradient_Theta1 = (df[\"Y^-Y\"]*df[\"Normalized_Area\"]).sum()\n",
    "\n",
    "        # New Thetas\n",
    "        Theta[0] -= (Alpha / n) * gradient_Theta0\n",
    "        Theta[1] -= (Alpha / n) * gradient_Theta1\n",
    "\n",
    "        # Update predictions\n",
    "        update(Theta)\n",
    "\n",
    "        # Debuging\n",
    "        if i % 100 == 0:\n",
    "            print(\"I: \", i,\"m: \", Theta[0], \"W1: \", Theta[1],\"MSE: \", df.MSE.mean())\n",
    "\n",
    "    return Theta\n",
    "\n",
    "# Initial Theta values  \n",
    "Theta = [1, 1]\n",
    "# Learning rate \n",
    "Alpha = 0.01   \n",
    "\n",
    "GD(Theta, Alpha)"
   ]
  },
  {
   "cell_type": "code",
   "execution_count": 5,
   "id": "84978f4d",
   "metadata": {
    "ExecuteTime": {
     "end_time": "2024-12-12T09:43:06.796409Z",
     "start_time": "2024-12-12T09:43:06.783958Z"
    }
   },
   "outputs": [],
   "source": [
    "class linear_regression:\n",
    "    def __init__(self, df):\n",
    "        self.df = df\n",
    "        self.df[\"Y^\"] = [0] * self.df.Area.count()\n",
    "        self.df[\"MSE\"] = [0] * self.df.Area.count()\n",
    "        self.df[\"Y^-Y\"] = [0] * self.df.Area.count()\n",
    "        \n",
    "\n",
    "    # updating the predicton every gradient descent value\n",
    "    def update(self, Theta):\n",
    "        self.df[\"Y^\"] = Theta[0] + Theta[1] * self.df.Area\n",
    "        self.df[\"MSE\"] = (self.df.price - self.df[\"Y^\"])**2\n",
    "        self.df[\"Y^-Y\"] = self.df[\"Y^\"] - self.df[\"price\"]\n",
    "\n",
    "    # Training\n",
    "    def GD(self, df, Theta, Alpha, num_iterations=1000):\n",
    "        n = len(df)\n",
    "        for i in range(num_iterations):\n",
    "            # GD Equation\n",
    "            gradient_Theta0 = df[\"Y^-Y\"].sum()\n",
    "            gradient_Theta1 = (df[\"Y^-Y\"] * df[\"Normalized_Area\"]).sum()\n",
    "\n",
    "            # New Thetas\n",
    "            Theta[0] -= (Alpha / n) * gradient_Theta0\n",
    "            Theta[1] -= (Alpha / n) * gradient_Theta1\n",
    "\n",
    "            # Update predictions\n",
    "            self.update(Theta)\n",
    "\n",
    "            # Debugging\n",
    "            if i % 100 == 0:\n",
    "                print(\"I:\", i, \"m:\", Theta[0], \"W1:\", Theta[1], \"MSE:\", df.MSE.mean())\n",
    "\n",
    "        return Theta\n",
    "    \n",
    "    # Fitting\n",
    "    def fit(self, Theta=[1,1], Alpha=0.001, num_iterations=1000):\n",
    "        self.Theta = self.GD(self.df, Theta, Alpha, num_iterations)\n",
    "        return self.Theta\n",
    "    \n",
    "    # Prediction\n",
    "    def predict(self, x):\n",
    "        y = self.Theta[0] + self.Theta[1] * x\n",
    "        print(\"x: \", x, \"y: \", y)\n",
    "        return y\n",
    "    \n",
    "    # Cost Function\n",
    "    def error(self):\n",
    "        print(\"MSE: \", self.df.MSE.mean())\n",
    "        return self.df.MSE.mean()\n"
   ]
  },
  {
   "cell_type": "code",
   "execution_count": 6,
   "id": "1ae87da4",
   "metadata": {
    "ExecuteTime": {
     "end_time": "2024-12-12T09:43:06.803912Z",
     "start_time": "2024-12-12T09:43:06.799412Z"
    }
   },
   "outputs": [],
   "source": [
    "lr = linear_regression(df)"
   ]
  },
  {
   "cell_type": "code",
   "execution_count": 7,
   "id": "1b2d3dda",
   "metadata": {
    "ExecuteTime": {
     "end_time": "2024-12-12T09:43:08.008012Z",
     "start_time": "2024-12-12T09:43:06.807212Z"
    }
   },
   "outputs": [
    {
     "name": "stdout",
     "output_type": "stream",
     "text": [
      "I: 0 m: 1.0 W1: 1.0 MSE: 862161.0\n",
      "I: 100 m: 77.13316109410043 W1: 26.362161095955425 MSE: 13484.953836798537\n",
      "I: 200 m: 105.60318671278803 W1: 25.64173444096336 MSE: 12228.012135495246\n",
      "I: 300 m: 127.9728010801798 W1: 25.075677117519692 MSE: 11452.02161971967\n",
      "I: 400 m: 145.54916907165827 W1: 24.63091165765462 MSE: 10972.953035541232\n",
      "I: 500 m: 159.3593629667391 W1: 24.281448262171022 MSE: 10677.193353327386\n",
      "I: 600 m: 170.21037925817103 W1: 24.00686609290818 MSE: 10494.601982254168\n",
      "I: 700 m: 178.73629536416107 W1: 23.791119984298586 MSE: 10381.876648832005\n",
      "I: 800 m: 185.4353218418728 W1: 23.62160284665944 MSE: 10312.284089663113\n",
      "I: 900 m: 190.6989152424169 W1: 23.488408972904026 MSE: 10269.320151170796\n"
     ]
    },
    {
     "data": {
      "text/plain": [
       "[194.79803771026334, 23.384681735835542]"
      ]
     },
     "execution_count": 7,
     "metadata": {},
     "output_type": "execute_result"
    }
   ],
   "source": [
    "lr.fit([1,1], 0.01)"
   ]
  },
  {
   "cell_type": "code",
   "execution_count": 8,
   "id": "461bbfd1",
   "metadata": {
    "ExecuteTime": {
     "end_time": "2024-12-12T09:43:08.017048Z",
     "start_time": "2024-12-12T09:43:08.010016Z"
    }
   },
   "outputs": [
    {
     "name": "stdout",
     "output_type": "stream",
     "text": [
      "x:  50 y:  1364.0321245020405\n"
     ]
    },
    {
     "data": {
      "text/plain": [
       "1364.0321245020405"
      ]
     },
     "execution_count": 8,
     "metadata": {},
     "output_type": "execute_result"
    }
   ],
   "source": [
    "lr.predict(50)"
   ]
  },
  {
   "cell_type": "code",
   "execution_count": 9,
   "id": "ecce6201",
   "metadata": {
    "ExecuteTime": {
     "end_time": "2024-12-12T09:43:08.027987Z",
     "start_time": "2024-12-12T09:43:08.020053Z"
    }
   },
   "outputs": [
    {
     "name": "stdout",
     "output_type": "stream",
     "text": [
      "MSE:  10243.002664629228\n"
     ]
    },
    {
     "data": {
      "text/plain": [
       "10243.002664629228"
      ]
     },
     "execution_count": 9,
     "metadata": {},
     "output_type": "execute_result"
    }
   ],
   "source": [
    "lr.error()"
   ]
  }
 ],
 "metadata": {
  "kernelspec": {
   "display_name": "Python 3 (ipykernel)",
   "language": "python",
   "name": "python3"
  },
  "language_info": {
   "codemirror_mode": {
    "name": "ipython",
    "version": 3
   },
   "file_extension": ".py",
   "mimetype": "text/x-python",
   "name": "python",
   "nbconvert_exporter": "python",
   "pygments_lexer": "ipython3",
   "version": "3.11.5"
  },
  "varInspector": {
   "cols": {
    "lenName": 16,
    "lenType": 16,
    "lenVar": 40
   },
   "kernels_config": {
    "python": {
     "delete_cmd_postfix": "",
     "delete_cmd_prefix": "del ",
     "library": "var_list.py",
     "varRefreshCmd": "print(var_dic_list())"
    },
    "r": {
     "delete_cmd_postfix": ") ",
     "delete_cmd_prefix": "rm(",
     "library": "var_list.r",
     "varRefreshCmd": "cat(var_dic_list()) "
    }
   },
   "types_to_exclude": [
    "module",
    "function",
    "builtin_function_or_method",
    "instance",
    "_Feature"
   ],
   "window_display": false
  }
 },
 "nbformat": 4,
 "nbformat_minor": 5
}
