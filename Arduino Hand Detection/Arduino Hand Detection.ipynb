{
 "cells": [
  {
   "cell_type": "markdown",
   "id": "2fd4ca3d",
   "metadata": {},
   "source": [
    "## Importing Library"
   ]
  },
  {
   "cell_type": "code",
   "execution_count": 1,
   "id": "ffb564aa",
   "metadata": {
    "ExecuteTime": {
     "end_time": "2024-03-15T19:43:43.129351Z",
     "start_time": "2024-03-15T19:43:35.116064Z"
    },
    "scrolled": true
   },
   "outputs": [
    {
     "name": "stdout",
     "output_type": "stream",
     "text": [
      "WARNING:tensorflow:From E:\\SETUP\\Anaconda\\Lib\\site-packages\\keras\\src\\losses.py:2976: The name tf.losses.sparse_softmax_cross_entropy is deprecated. Please use tf.compat.v1.losses.sparse_softmax_cross_entropy instead.\n",
      "\n"
     ]
    }
   ],
   "source": [
    "import cv2\n",
    "import mediapipe as mp\n",
    "import math\n",
    "import serial.tools.list_ports\n",
    "import time"
   ]
  },
  {
   "cell_type": "markdown",
   "id": "aba8781f",
   "metadata": {},
   "source": [
    "## Connecting To theSerial Monitor"
   ]
  },
  {
   "cell_type": "code",
   "execution_count": 2,
   "id": "7d6dc06b",
   "metadata": {
    "ExecuteTime": {
     "end_time": "2024-03-15T19:43:43.147232Z",
     "start_time": "2024-03-15T19:43:43.129351Z"
    }
   },
   "outputs": [
    {
     "name": "stdout",
     "output_type": "stream",
     "text": [
      "Connecting To Serial Monitor Of:  COM5\n"
     ]
    }
   ],
   "source": [
    "ports = serial.tools.list_ports.comports()\n",
    "serialInst = serial.Serial()\n",
    "\n",
    "\n",
    "for x in range(len(ports)):\n",
    "    if(ports[x][1][0:7] == \"Arduino\"):\n",
    "        portvar = \"COM\" + str(ports[0][0][3])\n",
    "        print(\"Connecting To Serial Monitor Of: \", portvar)\n",
    "        \n",
    "serialInst.baudraten = 9600\n",
    "serialInst.port = portvar\n",
    "serialInst.open()"
   ]
  },
  {
   "cell_type": "markdown",
   "id": "84ae7cd8",
   "metadata": {},
   "source": [
    "## Command Sending Function"
   ]
  },
  {
   "cell_type": "code",
   "execution_count": 3,
   "id": "b9f35ed1",
   "metadata": {
    "ExecuteTime": {
     "end_time": "2024-03-15T19:43:43.155850Z",
     "start_time": "2024-03-15T19:43:43.151013Z"
    },
    "scrolled": false
   },
   "outputs": [],
   "source": [
    "def LoobCommand():\n",
    "    while True:\n",
    "        command = input(\"Arduino command ON/OFF: \")\n",
    "        serialInst.write(command.encode('utf-8'))\n",
    "    \n",
    "        if command == \"exit\":\n",
    "            break\n",
    "            \n",
    "def Command(stg):\n",
    "    command = str(stg)\n",
    "    serialInst.write(command.encode('utf-8'))"
   ]
  },
  {
   "cell_type": "code",
   "execution_count": 4,
   "id": "cb0fb5bf",
   "metadata": {
    "ExecuteTime": {
     "end_time": "2024-03-15T19:43:43.162699Z",
     "start_time": "2024-03-15T19:43:43.157848Z"
    }
   },
   "outputs": [],
   "source": [
    "def TurnAll():\n",
    "    for i in range(10):\n",
    "        Command(str(i) + \"1\")\n",
    "        time.sleep(1.2)\n",
    "        \n",
    "def CloseAll():\n",
    "    for i in range(10):\n",
    "        Command(str(i) + \"0\")\n",
    "        time.sleep(1.2)\n"
   ]
  },
  {
   "cell_type": "markdown",
   "id": "41b6fce0",
   "metadata": {},
   "source": [
    "### Finger Distance Functions:"
   ]
  },
  {
   "cell_type": "code",
   "execution_count": 5,
   "id": "02cdc3ef",
   "metadata": {
    "ExecuteTime": {
     "end_time": "2024-03-15T19:43:43.172867Z",
     "start_time": "2024-03-15T19:43:43.162699Z"
    }
   },
   "outputs": [],
   "source": [
    "def DrawFinger(landmarks, FingerTip):\n",
    "        # Get the coordinates of landmarks\n",
    "        x, y = landmarks[FingerTip].x, landmarks[FingerTip].y\n",
    "        # Draw circles at the landmark positions\n",
    "        h, w, c = img.shape\n",
    "        cx, cy = int(x * w), int(y * h)\n",
    "        # this part to draw the hand body\n",
    "        cv2.circle(img, (cx, cy), 10, (255,255,255), thickness=2)\n",
    "        return int(cx), int(cy)\n",
    "\n",
    "def distance_between_points(x1, y1, x2, y2):\n",
    "    return math.sqrt((x2 - x1)**2 + (y2 - y1)**2)"
   ]
  },
  {
   "cell_type": "markdown",
   "id": "107e2bdc",
   "metadata": {},
   "source": [
    "## Video Capture"
   ]
  },
  {
   "cell_type": "code",
   "execution_count": 6,
   "id": "dca0c143",
   "metadata": {
    "ExecuteTime": {
     "end_time": "2024-03-15T19:44:07.776542Z",
     "start_time": "2024-03-15T19:43:43.172867Z"
    }
   },
   "outputs": [],
   "source": [
    "cap = cv2.VideoCapture(0)\n",
    "\n",
    "mpHands = mp.solutions.hands\n",
    "hands = mpHands.Hands()\n",
    "mpDraw = mp.solutions.drawing_utils\n",
    "\n",
    "while True:\n",
    "    success, img = cap.read()\n",
    "    img = cv2.flip(img,1)\n",
    "    imgRGB = cv2.cvtColor(img, cv2.COLOR_BGR2RGB)\n",
    "    results = hands.process(imgRGB)\n",
    "    \n",
    "    # Getting the land mark\n",
    "    if results.multi_hand_landmarks:\n",
    "        for handLms in results.multi_hand_landmarks:\n",
    "            for id, lm in enumerate(handLms.landmark):\n",
    "                h, w, c = img.shape\n",
    "                cx, cy = int(lm.x * w), int(lm.y * h)\n",
    "        landmarks = handLms.landmark\n",
    "                \n",
    "        # Drawing the index finger\n",
    "        cx8,cy8 = DrawFinger(landmarks,8)\n",
    "        cx4,cy4 = DrawFinger(landmarks,4)\n",
    "        cx0,cy0 = DrawFinger(landmarks,0)\n",
    "        \n",
    "        cv2.line(img , (cx4,cy4) , (cx8,cy8) , (255,0,0) , 1)\n",
    "        cv2.line(img , (cx0,cy0) , (cx8,cy8) , (0,255,0) , 1)\n",
    "        cv2.line(img , (cx4,cy4) , (cx0,cy0) , (0,0,255) , 1)\n",
    "        \n",
    "        e2f = int(distance_between_points(cx8,cy8,cx4,cy4))\n",
    "        z2f = int(distance_between_points(cx0,cy0,cx4,cy4))\n",
    "        e2z = int(distance_between_points(cx8,cy8,cx0,cy0))\n",
    "  \n",
    "        B = (z2f*z2f +  e2z * e2z - e2f*e2f) / (2 * z2f * e2z)\n",
    "        cv2.putText(img, str(B*10 - 1) , (500, 400), cv2.FONT_HERSHEY_SIMPLEX, 3, (255,255, 255), 2)\n",
    "        Command(str(int(B*10 - 1)))\n",
    "    \n",
    "        time.sleep(1)\n",
    "    cv2.imshow(\"Image\", img)\n",
    "    \n",
    "    # Check for the 'Esc' key press\n",
    "    key = cv2.waitKey(1)\n",
    "    if key == 27:  # 27 is the keycode for 'Esc'\n",
    "        break\n",
    "\n",
    "cap.release()\n",
    "cv2.destroyAllWindows()"
   ]
  }
 ],
 "metadata": {
  "kernelspec": {
   "display_name": "Python 3 (ipykernel)",
   "language": "python",
   "name": "python3"
  },
  "language_info": {
   "codemirror_mode": {
    "name": "ipython",
    "version": 3
   },
   "file_extension": ".py",
   "mimetype": "text/x-python",
   "name": "python",
   "nbconvert_exporter": "python",
   "pygments_lexer": "ipython3",
   "version": "3.11.5"
  },
  "varInspector": {
   "cols": {
    "lenName": 16,
    "lenType": 16,
    "lenVar": 40
   },
   "kernels_config": {
    "python": {
     "delete_cmd_postfix": "",
     "delete_cmd_prefix": "del ",
     "library": "var_list.py",
     "varRefreshCmd": "print(var_dic_list())"
    },
    "r": {
     "delete_cmd_postfix": ") ",
     "delete_cmd_prefix": "rm(",
     "library": "var_list.r",
     "varRefreshCmd": "cat(var_dic_list()) "
    }
   },
   "types_to_exclude": [
    "module",
    "function",
    "builtin_function_or_method",
    "instance",
    "_Feature"
   ],
   "window_display": false
  }
 },
 "nbformat": 4,
 "nbformat_minor": 5
}
